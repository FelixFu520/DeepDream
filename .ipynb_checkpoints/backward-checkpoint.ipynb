{
 "cells": [
  {
   "cell_type": "code",
   "execution_count": 1,
   "metadata": {},
   "outputs": [],
   "source": [
    "import torch"
   ]
  },
  {
   "cell_type": "markdown",
   "metadata": {},
   "source": [
    "# simple gradient"
   ]
  },
  {
   "cell_type": "code",
   "execution_count": 2,
   "metadata": {},
   "outputs": [
    {
     "name": "stdout",
     "output_type": "stream",
     "text": [
      "**********\n",
      "=====simple gradient======\n",
      "input\n",
      "tensor([2., 3.])\n",
      "compute result is\n",
      "91.5\n",
      "input gradients are\n",
      "tensor([15., 18.])\n"
     ]
    }
   ],
   "source": [
    "a = torch.tensor([2, 3], dtype=torch.float32, requires_grad=True)\n",
    "b = a + 3\n",
    "c = b * b * 3\n",
    "out = c.mean()\n",
    "out.backward()\n",
    "print('*' * 10)\n",
    "print('=====simple gradient======')\n",
    "print('input')\n",
    "print(a.data)\n",
    "print('compute result is')\n",
    "print(out.data.item())\n",
    "print('input gradients are')\n",
    "print(a.grad.data)"
   ]
  },
  {
   "cell_type": "markdown",
   "metadata": {},
   "source": [
    "# backward on non-scalar output"
   ]
  },
  {
   "cell_type": "code",
   "execution_count": 3,
   "metadata": {
    "scrolled": true
   },
   "outputs": [
    {
     "name": "stdout",
     "output_type": "stream",
     "text": [
      "2\n",
      "**********\n",
      "=====non scalar output======\n",
      "input\n",
      "tensor([[2., 3.]])\n",
      "input gradients are\n",
      "tensor([[ 4., 27.]])\n"
     ]
    }
   ],
   "source": [
    "m = torch.tensor([[2, 3]], requires_grad=True, dtype=torch.float32)\n",
    "n = torch.zeros(1, 2)\n",
    "\n",
    "print(torch.numel(n))\n",
    "\n",
    "n[0, 0] = m[0, 0]**2\n",
    "n[0, 1] = m[0, 1]**3\n",
    "\n",
    "n.backward(torch.tensor([[1, 1]], dtype=torch.float32))\n",
    "print('*' * 10)\n",
    "print('=====non scalar output======')\n",
    "print('input')\n",
    "print(m.data)\n",
    "print('input gradients are')\n",
    "print(m.grad.data)"
   ]
  },
  {
   "cell_type": "markdown",
   "metadata": {},
   "source": [
    "# jacobian"
   ]
  },
  {
   "cell_type": "code",
   "execution_count": 4,
   "metadata": {},
   "outputs": [
    {
     "name": "stdout",
     "output_type": "stream",
     "text": [
      "jacobian matrix is\n",
      "tensor([[4., 2.],\n",
      "        [3., 6.]])\n"
     ]
    }
   ],
   "source": [
    "j = torch.zeros(2, 2)\n",
    "k = torch.zeros(1, 2)\n",
    "m.grad.data.zero_()\n",
    "k[0, 0] = m[0, 0]**2 + 3 * m[0, 1]\n",
    "k[0, 1] = m[0, 1]**2 + 2 * m[0, 0]\n",
    "k.backward(torch.tensor([[1, 0]], dtype=torch.float32), retain_graph=True)\n",
    "j[:, 0] = m.grad.data\n",
    "m.grad.data.zero_()\n",
    "k.backward(torch.tensor([[0, 1]], dtype=torch.float32))\n",
    "j[:, 1] = m.grad.data\n",
    "print('jacobian matrix is') \n",
    "print(j)"
   ]
  },
  {
   "cell_type": "markdown",
   "metadata": {},
   "source": [
    "# compute jacobian matrix"
   ]
  },
  {
   "cell_type": "code",
   "execution_count": 19,
   "metadata": {},
   "outputs": [
    {
     "name": "stdout",
     "output_type": "stream",
     "text": [
      "=========jacobian========\n",
      "x\n",
      "tensor([[2., 1.]])\n",
      "y\n",
      "tensor([[1., 2.],\n",
      "        [3., 4.]])\n",
      "compute result\n",
      "tensor([[5., 8.]])\n",
      "jacobian matrix is\n",
      "tensor([[1., 2.],\n",
      "        [3., 4.]])\n"
     ]
    }
   ],
   "source": [
    "import torch\n",
    "from torch.autograd import Variable\n",
    "# compute jacobian matrix\n",
    "x = torch.FloatTensor([2, 1]).view(1, 2)\n",
    "x = Variable(x, requires_grad=True)\n",
    "y = Variable(torch.FloatTensor([[1, 2], [3, 4]]))\n",
    "\n",
    "z = torch.mm(x, y)\n",
    "jacobian = torch.zeros((2, 2))\n",
    "z.backward(\n",
    "    torch.FloatTensor([[1, 0]]), retain_graph=True)  # dz1/dx1, dz2/dx1\n",
    "jacobian[:, 0] = x.grad.data\n",
    "x.grad.data.zero_()\n",
    "z.backward(torch.FloatTensor([[0, 1]]))  # dz1/dx2, dz2/dx2\n",
    "jacobian[:, 1] = x.grad.data\n",
    "print('=========jacobian========')\n",
    "print('x')\n",
    "print(x.data)\n",
    "print('y')\n",
    "print(y.data)\n",
    "print('compute result')\n",
    "print(z.data)\n",
    "print('jacobian matrix is')\n",
    "print(jacobian)"
   ]
  },
  {
   "cell_type": "code",
   "execution_count": null,
   "metadata": {},
   "outputs": [],
   "source": []
  }
 ],
 "metadata": {
  "kernelspec": {
   "display_name": "Python 3",
   "language": "python",
   "name": "python3"
  },
  "language_info": {
   "codemirror_mode": {
    "name": "ipython",
    "version": 3
   },
   "file_extension": ".py",
   "mimetype": "text/x-python",
   "name": "python",
   "nbconvert_exporter": "python",
   "pygments_lexer": "ipython3",
   "version": "3.5.2"
  }
 },
 "nbformat": 4,
 "nbformat_minor": 4
}
